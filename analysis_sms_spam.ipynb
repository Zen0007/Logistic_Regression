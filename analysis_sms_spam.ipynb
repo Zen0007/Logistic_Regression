{
  "nbformat": 4,
  "nbformat_minor": 0,
  "metadata": {
    "colab": {
      "provenance": [],
      "authorship_tag": "ABX9TyPqyyqBFfkZtdt9bf+v++pL",
      "include_colab_link": true
    },
    "kernelspec": {
      "name": "python3",
      "display_name": "Python 3"
    },
    "language_info": {
      "name": "python"
    }
  },
  "cells": [
    {
      "cell_type": "markdown",
      "metadata": {
        "id": "view-in-github",
        "colab_type": "text"
      },
      "source": [
        "<a href=\"https://colab.research.google.com/github/Zen0007/Logistic_Regression/blob/main/analysis_sms_spam.ipynb\" target=\"_parent\"><img src=\"https://colab.research.google.com/assets/colab-badge.svg\" alt=\"Open In Colab\"/></a>"
      ]
    },
    {
      "cell_type": "code",
      "execution_count": 89,
      "metadata": {
        "id": "ljpT1FkrCSST"
      },
      "outputs": [],
      "source": [
        "import pandas as pd \n",
        "import numpy as np\n",
        "import matplotlib.pyplot  as plt"
      ]
    },
    {
      "cell_type": "code",
      "source": [
        "data = pd.read_csv('spamsms',sep='\\t',header=None,names=['Label','sms'])\n",
        "data.head()"
      ],
      "metadata": {
        "colab": {
          "base_uri": "https://localhost:8080/",
          "height": 206
        },
        "id": "-M7PkrBPfQAB",
        "outputId": "71b1bdd3-1cbb-49e4-a67a-c99e1b3c3372"
      },
      "execution_count": 79,
      "outputs": [
        {
          "output_type": "execute_result",
          "data": {
            "text/plain": [
              "  Label                                                sms\n",
              "0   ham  Go until jurong point, crazy.. Available only ...\n",
              "1   ham                      Ok lar... Joking wif u oni...\n",
              "2  spam  Free entry in 2 a wkly comp to win FA Cup fina...\n",
              "3   ham  U dun say so early hor... U c already then say...\n",
              "4   ham  Nah I don't think he goes to usf, he lives aro..."
            ],
            "text/html": [
              "\n",
              "  <div id=\"df-9da9bb37-a320-4c6e-b422-9268cedf3567\">\n",
              "    <div class=\"colab-df-container\">\n",
              "      <div>\n",
              "<style scoped>\n",
              "    .dataframe tbody tr th:only-of-type {\n",
              "        vertical-align: middle;\n",
              "    }\n",
              "\n",
              "    .dataframe tbody tr th {\n",
              "        vertical-align: top;\n",
              "    }\n",
              "\n",
              "    .dataframe thead th {\n",
              "        text-align: right;\n",
              "    }\n",
              "</style>\n",
              "<table border=\"1\" class=\"dataframe\">\n",
              "  <thead>\n",
              "    <tr style=\"text-align: right;\">\n",
              "      <th></th>\n",
              "      <th>Label</th>\n",
              "      <th>sms</th>\n",
              "    </tr>\n",
              "  </thead>\n",
              "  <tbody>\n",
              "    <tr>\n",
              "      <th>0</th>\n",
              "      <td>ham</td>\n",
              "      <td>Go until jurong point, crazy.. Available only ...</td>\n",
              "    </tr>\n",
              "    <tr>\n",
              "      <th>1</th>\n",
              "      <td>ham</td>\n",
              "      <td>Ok lar... Joking wif u oni...</td>\n",
              "    </tr>\n",
              "    <tr>\n",
              "      <th>2</th>\n",
              "      <td>spam</td>\n",
              "      <td>Free entry in 2 a wkly comp to win FA Cup fina...</td>\n",
              "    </tr>\n",
              "    <tr>\n",
              "      <th>3</th>\n",
              "      <td>ham</td>\n",
              "      <td>U dun say so early hor... U c already then say...</td>\n",
              "    </tr>\n",
              "    <tr>\n",
              "      <th>4</th>\n",
              "      <td>ham</td>\n",
              "      <td>Nah I don't think he goes to usf, he lives aro...</td>\n",
              "    </tr>\n",
              "  </tbody>\n",
              "</table>\n",
              "</div>\n",
              "      <button class=\"colab-df-convert\" onclick=\"convertToInteractive('df-9da9bb37-a320-4c6e-b422-9268cedf3567')\"\n",
              "              title=\"Convert this dataframe to an interactive table.\"\n",
              "              style=\"display:none;\">\n",
              "        \n",
              "  <svg xmlns=\"http://www.w3.org/2000/svg\" height=\"24px\"viewBox=\"0 0 24 24\"\n",
              "       width=\"24px\">\n",
              "    <path d=\"M0 0h24v24H0V0z\" fill=\"none\"/>\n",
              "    <path d=\"M18.56 5.44l.94 2.06.94-2.06 2.06-.94-2.06-.94-.94-2.06-.94 2.06-2.06.94zm-11 1L8.5 8.5l.94-2.06 2.06-.94-2.06-.94L8.5 2.5l-.94 2.06-2.06.94zm10 10l.94 2.06.94-2.06 2.06-.94-2.06-.94-.94-2.06-.94 2.06-2.06.94z\"/><path d=\"M17.41 7.96l-1.37-1.37c-.4-.4-.92-.59-1.43-.59-.52 0-1.04.2-1.43.59L10.3 9.45l-7.72 7.72c-.78.78-.78 2.05 0 2.83L4 21.41c.39.39.9.59 1.41.59.51 0 1.02-.2 1.41-.59l7.78-7.78 2.81-2.81c.8-.78.8-2.07 0-2.86zM5.41 20L4 18.59l7.72-7.72 1.47 1.35L5.41 20z\"/>\n",
              "  </svg>\n",
              "      </button>\n",
              "      \n",
              "  <style>\n",
              "    .colab-df-container {\n",
              "      display:flex;\n",
              "      flex-wrap:wrap;\n",
              "      gap: 12px;\n",
              "    }\n",
              "\n",
              "    .colab-df-convert {\n",
              "      background-color: #E8F0FE;\n",
              "      border: none;\n",
              "      border-radius: 50%;\n",
              "      cursor: pointer;\n",
              "      display: none;\n",
              "      fill: #1967D2;\n",
              "      height: 32px;\n",
              "      padding: 0 0 0 0;\n",
              "      width: 32px;\n",
              "    }\n",
              "\n",
              "    .colab-df-convert:hover {\n",
              "      background-color: #E2EBFA;\n",
              "      box-shadow: 0px 1px 2px rgba(60, 64, 67, 0.3), 0px 1px 3px 1px rgba(60, 64, 67, 0.15);\n",
              "      fill: #174EA6;\n",
              "    }\n",
              "\n",
              "    [theme=dark] .colab-df-convert {\n",
              "      background-color: #3B4455;\n",
              "      fill: #D2E3FC;\n",
              "    }\n",
              "\n",
              "    [theme=dark] .colab-df-convert:hover {\n",
              "      background-color: #434B5C;\n",
              "      box-shadow: 0px 1px 3px 1px rgba(0, 0, 0, 0.15);\n",
              "      filter: drop-shadow(0px 1px 2px rgba(0, 0, 0, 0.3));\n",
              "      fill: #FFFFFF;\n",
              "    }\n",
              "  </style>\n",
              "\n",
              "      <script>\n",
              "        const buttonEl =\n",
              "          document.querySelector('#df-9da9bb37-a320-4c6e-b422-9268cedf3567 button.colab-df-convert');\n",
              "        buttonEl.style.display =\n",
              "          google.colab.kernel.accessAllowed ? 'block' : 'none';\n",
              "\n",
              "        async function convertToInteractive(key) {\n",
              "          const element = document.querySelector('#df-9da9bb37-a320-4c6e-b422-9268cedf3567');\n",
              "          const dataTable =\n",
              "            await google.colab.kernel.invokeFunction('convertToInteractive',\n",
              "                                                     [key], {});\n",
              "          if (!dataTable) return;\n",
              "\n",
              "          const docLinkHtml = 'Like what you see? Visit the ' +\n",
              "            '<a target=\"_blank\" href=https://colab.research.google.com/notebooks/data_table.ipynb>data table notebook</a>'\n",
              "            + ' to learn more about interactive tables.';\n",
              "          element.innerHTML = '';\n",
              "          dataTable['output_type'] = 'display_data';\n",
              "          await google.colab.output.renderOutput(dataTable, element);\n",
              "          const docLink = document.createElement('div');\n",
              "          docLink.innerHTML = docLinkHtml;\n",
              "          element.appendChild(docLink);\n",
              "        }\n",
              "      </script>\n",
              "    </div>\n",
              "  </div>\n",
              "  "
            ]
          },
          "metadata": {},
          "execution_count": 79
        }
      ]
    },
    {
      "cell_type": "code",
      "source": [
        "data = data.drop(index=12)"
      ],
      "metadata": {
        "id": "A7tCK9L0zQEz"
      },
      "execution_count": 72,
      "outputs": []
    },
    {
      "cell_type": "code",
      "source": [
        "data['Label'].value_counts()"
      ],
      "metadata": {
        "colab": {
          "base_uri": "https://localhost:8080/"
        },
        "id": "yV87D4OLpUBV",
        "outputId": "1eb11e11-acba-404b-f3c7-95bc55233af2"
      },
      "execution_count": 73,
      "outputs": [
        {
          "output_type": "execute_result",
          "data": {
            "text/plain": [
              "ham     4825\n",
              "spam     746\n",
              "Name: Label, dtype: int64"
            ]
          },
          "metadata": {},
          "execution_count": 73
        }
      ]
    },
    {
      "cell_type": "code",
      "source": [
        "from sklearn.preprocessing import LabelBinarizer\n",
        "x= data['sms'].values\n",
        "y = data['Label'].values\n",
        "\n",
        "lb = LabelBinarizer()\n",
        "y = lb.fit_transform(y).ravel()\n",
        "lb.classes_"
      ],
      "metadata": {
        "colab": {
          "base_uri": "https://localhost:8080/"
        },
        "id": "bAusH04rpkz9",
        "outputId": "ad8c7b65-4c01-4292-a2e4-5013424248aa"
      },
      "execution_count": 74,
      "outputs": [
        {
          "output_type": "execute_result",
          "data": {
            "text/plain": [
              "array(['ham', 'spam'], dtype='<U4')"
            ]
          },
          "metadata": {},
          "execution_count": 74
        }
      ]
    },
    {
      "cell_type": "code",
      "source": [
        "from sklearn.model_selection import train_test_split\n",
        "\n",
        "x_train, x_test, y_train, y_test = train_test_split(x\n",
        "                                                 ,y\n",
        "                                                 ,test_size=0.25\n",
        "                                                 ,random_state=0)\n",
        "\n",
        "print(x_train,'\\t')\n",
        "print(y_train)"
      ],
      "metadata": {
        "colab": {
          "base_uri": "https://localhost:8080/"
        },
        "id": "XaT3tZBbtcJ4",
        "outputId": "23357337-6b22-4d2e-a576-ed59ee657331"
      },
      "execution_count": 75,
      "outputs": [
        {
          "output_type": "stream",
          "name": "stdout",
          "text": [
            "[\"I'll text you when I drop x off\"\n",
            " 'Hi mate its RV did u hav a nice hol just a message 3 say hello coz haven\\x92t sent u 1 in ages started driving so stay off roads!RVx'\n",
            " \"network operator. The service is free. For T & C's visit 80488.biz\" ...\n",
            " \"I was at bugis juz now wat... But now i'm walking home oredi... Ü so late then reply... I oso saw a top dat i like but din buy... Where r ü now? \"\n",
            " \":-) yeah! Lol. Luckily i didn't have a starring role like you!\"\n",
            " 'How dare you stupid. I wont tell anything to you. Hear after i wont talk to you:-.'] \t\n",
            "[0 0 1 ... 0 0 0]\n"
          ]
        }
      ]
    },
    {
      "cell_type": "code",
      "source": [
        "from sklearn.feature_extraction.text import TfidfVectorizer\n",
        "vector = TfidfVectorizer(stop_words='english')\n",
        "\n",
        "x_train_tfidf = vector.fit_transform(x_train)\n",
        "x_test_tfidf = vector.transform(x_test)\n",
        "print(x_train_tfidf)"
      ],
      "metadata": {
        "colab": {
          "base_uri": "https://localhost:8080/"
        },
        "id": "SIDFZ7C11sFM",
        "outputId": "f573c2ee-dd3d-4257-a82d-f8ebe4775550"
      },
      "execution_count": 80,
      "outputs": [
        {
          "output_type": "stream",
          "name": "stdout",
          "text": [
            "  (0, 2294)\t0.7309039984372743\n",
            "  (0, 6270)\t0.5076230894518599\n",
            "  (0, 3828)\t0.45617775496373547\n",
            "  (1, 5395)\t0.29680902811957594\n",
            "  (1, 5334)\t0.28288766798432613\n",
            "  (1, 5956)\t0.21607620767832617\n",
            "  (1, 2291)\t0.22999756781357597\n",
            "  (1, 5946)\t0.2213688631647173\n",
            "  (1, 813)\t0.26534882843302526\n",
            "  (1, 5542)\t0.1862911840621155\n",
            "  (1, 3097)\t0.21295275547190812\n",
            "  (1, 1897)\t0.22541286109303735\n",
            "  (1, 3136)\t0.19853736812702527\n",
            "  (1, 5458)\t0.1742516262900452\n",
            "  (1, 4102)\t0.1772830910370123\n",
            "  (1, 3566)\t0.12788493340131615\n",
            "  (1, 3194)\t0.28288766798432613\n",
            "  (1, 4385)\t0.1891540331297286\n",
            "  (1, 3092)\t0.2144789755658702\n",
            "  (1, 2140)\t0.16498412556477862\n",
            "  (1, 5394)\t0.29680902811957594\n",
            "  (1, 4035)\t0.24516758550689682\n",
            "  (1, 3157)\t0.16498412556477862\n",
            "  (2, 1261)\t0.4291697046033742\n",
            "  (2, 606)\t0.4487050549303325\n",
            "  :\t:\n",
            "  (4175, 4588)\t0.279826260963046\n",
            "  (4175, 5457)\t0.27758125250352883\n",
            "  (4175, 2019)\t0.25983482758365045\n",
            "  (4175, 1433)\t0.323529939922208\n",
            "  (4175, 3570)\t0.2734097099560346\n",
            "  (4175, 1457)\t0.24407820299948274\n",
            "  (4175, 3700)\t0.24018514327414975\n",
            "  (4175, 3205)\t0.19599406429795144\n",
            "  (4175, 6821)\t0.21477037365737078\n",
            "  (4175, 2161)\t0.33027681754792193\n",
            "  (4175, 3781)\t0.18068951946842962\n",
            "  (4175, 5254)\t0.20757914633462488\n",
            "  (4176, 5942)\t0.48923193352065353\n",
            "  (4176, 3915)\t0.48923193352065353\n",
            "  (4176, 5344)\t0.43737591546382976\n",
            "  (4176, 2142)\t0.3196932254808115\n",
            "  (4176, 3849)\t0.2996494344343289\n",
            "  (4176, 3781)\t0.23363690549025917\n",
            "  (4176, 7063)\t0.2888369668814229\n",
            "  (4177, 2008)\t0.4308843824020105\n",
            "  (4177, 6974)\t0.6533734155568516\n",
            "  (4177, 6039)\t0.36792048597841637\n",
            "  (4177, 3116)\t0.32213629326012055\n",
            "  (4177, 6182)\t0.296745799624478\n",
            "  (4177, 6241)\t0.2454515915875804\n"
          ]
        }
      ]
    },
    {
      "cell_type": "code",
      "source": [
        "from sklearn.linear_model import LogisticRegression\n",
        "\n",
        "model = LogisticRegression()\n",
        "model.fit(x_train_tfidf,y_train)\n",
        "y_pred = model.predict(x_test_tfidf)\n",
        "for pred, sms in zip(y_pred[:10],x_test[:10]):\n",
        "  print(f'PRED:{pred}-SMS:{sms}\\n')"
      ],
      "metadata": {
        "colab": {
          "base_uri": "https://localhost:8080/"
        },
        "id": "A7bTYnFW3uj7",
        "outputId": "389a30ae-3b65-49d5-f212-9a3c1a33bfcb"
      },
      "execution_count": 82,
      "outputs": [
        {
          "output_type": "stream",
          "name": "stdout",
          "text": [
            "PRED:0-SMS:If you want to mapquest it or something look up \"usf dogwood drive\", that's the tiny street where the parking lot is\n",
            "\n",
            "PRED:0-SMS:Was the farm open?\n",
            "\n",
            "PRED:0-SMS:I sent my scores to sophas and i had to do secondary application for a few schools. I think if you are thinking of applying, do a research on cost also. Contact joke ogunrinde, her school is one me the less expensive ones\n",
            "\n",
            "PRED:0-SMS:Where are you call me.\n",
            "\n",
            "PRED:0-SMS:In that case I guess I'll see you at campus lodge\n",
            "\n",
            "PRED:0-SMS:How come u got nothing to do?\n",
            "\n",
            "PRED:0-SMS:Our ride equally uneventful - not too many of those pesky cyclists around at that time of night ;).\n",
            "\n",
            "PRED:0-SMS:Hey i will be late... i'm at amk. Need to drink tea or coffee\n",
            "\n",
            "PRED:0-SMS:Hey are we going for the lo lesson or gym? \n",
            "\n",
            "PRED:1-SMS:85233 FREE>Ringtone!Reply REAL\n",
            "\n"
          ]
        }
      ]
    },
    {
      "cell_type": "code",
      "source": [
        "from sklearn.metrics import confusion_matrix\n",
        "matrix = confusion_matrix(y_test,y_pred)\n",
        "matrix"
      ],
      "metadata": {
        "colab": {
          "base_uri": "https://localhost:8080/"
        },
        "id": "tQRGdP-s5Sb9",
        "outputId": "afe9f402-6b4c-4804-db2c-2f20c123966e"
      },
      "execution_count": 83,
      "outputs": [
        {
          "output_type": "execute_result",
          "data": {
            "text/plain": [
              "array([[1187,    2],\n",
              "       [  52,  152]])"
            ]
          },
          "metadata": {},
          "execution_count": 83
        }
      ]
    },
    {
      "cell_type": "code",
      "source": [
        "tn,fp,fn,tp = matrix.ravel()\n",
        "\n",
        "print(f'TN:{tn}')\n",
        "print(f'FT:{fp}')\n",
        "print(f'FN:{fn}')\n",
        "print(f'TP:{tp}')"
      ],
      "metadata": {
        "colab": {
          "base_uri": "https://localhost:8080/"
        },
        "id": "Q8kqX7de7D2Q",
        "outputId": "7b0eb9b8-9aaf-45e2-acf6-68e00e390f60"
      },
      "execution_count": 85,
      "outputs": [
        {
          "output_type": "stream",
          "name": "stdout",
          "text": [
            "TN:1187\n",
            "FT:2\n",
            "FN:52\n",
            "TP:152\n"
          ]
        }
      ]
    },
    {
      "cell_type": "code",
      "source": [
        "plt.matshow(matrix)\n",
        "plt.colorbar()\n",
        "\n",
        "plt.title('confusion matrix')\n",
        "plt.ylabel('true label ')\n",
        "plt.xlabel('Prediction label')\n",
        "plt.show()"
      ],
      "metadata": {
        "colab": {
          "base_uri": "https://localhost:8080/",
          "height": 417
        },
        "id": "Rb_ALkdS752y",
        "outputId": "2d800245-2bfb-4bc7-8d36-e2e06bea80f0"
      },
      "execution_count": 90,
      "outputs": [
        {
          "output_type": "display_data",
          "data": {
            "text/plain": [
              "<Figure size 480x480 with 2 Axes>"
            ],
            "image/png": "[encoded data removed]"
          },
          "metadata": {}
        }
      ]
    },
    {
      "cell_type": "code",
      "source": [
        "from sklearn.metrics import accuracy_score\n",
        "\n",
        "accuracy_score(y_test,y_pred)"
      ],
      "metadata": {
        "colab": {
          "base_uri": "https://localhost:8080/"
        },
        "id": "LNQVefuK9tWa",
        "outputId": "1af24c1a-a3ec-44dc-a6f1-130a22d0db91"
      },
      "execution_count": 91,
      "outputs": [
        {
          "output_type": "execute_result",
          "data": {
            "text/plain": [
              "0.9612347451543432"
            ]
          },
          "metadata": {},
          "execution_count": 91
        }
      ]
    },
    {
      "cell_type": "code",
      "source": [
        "from sklearn.metrics import precision_score \n",
        "\n",
        "precision_score(y_test,y_pred)"
      ],
      "metadata": {
        "colab": {
          "base_uri": "https://localhost:8080/"
        },
        "id": "kRs3GzMI-dSI",
        "outputId": "db86e0d4-8c32-4b7d-d0fa-ec1b9ebe318c"
      },
      "execution_count": 95,
      "outputs": [
        {
          "output_type": "execute_result",
          "data": {
            "text/plain": [
              "0.987012987012987"
            ]
          },
          "metadata": {},
          "execution_count": 95
        }
      ]
    },
    {
      "cell_type": "code",
      "source": [
        "from sklearn.metrics import recall_score\n",
        "\n",
        "recall_score(y_test,y_pred)"
      ],
      "metadata": {
        "colab": {
          "base_uri": "https://localhost:8080/"
        },
        "id": "BDZZ-dHoBncA",
        "outputId": "f802fe62-e9a9-412c-f53c-5da2e008faa5"
      },
      "execution_count": 96,
      "outputs": [
        {
          "output_type": "execute_result",
          "data": {
            "text/plain": [
              "0.7450980392156863"
            ]
          },
          "metadata": {},
          "execution_count": 96
        }
      ]
    },
    {
      "cell_type": "code",
      "source": [
        "from sklearn.metrics import f1_score\n",
        "\n",
        "f1_score(y_test,y_pred)"
      ],
      "metadata": {
        "colab": {
          "base_uri": "https://localhost:8080/"
        },
        "id": "Tnztx1gSBmVt",
        "outputId": "e9ed66d1-7b5c-4dd7-953b-954906729f1c"
      },
      "execution_count": 97,
      "outputs": [
        {
          "output_type": "execute_result",
          "data": {
            "text/plain": [
              "0.8491620111731845"
            ]
          },
          "metadata": {},
          "execution_count": 97
        }
      ]
    },
    {
      "cell_type": "code",
      "source": [
        "from sklearn .metrics import roc_curve,auc\n",
        "\n",
        "prob_estimate = model.predict_proba(x_test_tfidf)\n",
        "fpr , tpr ,threshhold = roc_curve(y_test,prob_estimate[:,1])\n",
        "nilai_auc = auc(fpr,tpr)\n",
        "\n",
        "plt.plot(fpr,tpr,'b',label=f'AUC={nilai_auc}')\n",
        "plt.plot([0,1],[0,1],'r--',label='random Classifier')\n",
        "\n",
        "plt.title('ROC : Receiver Operating characteristic ')\n",
        "plt.xlabel('Fallout or false Positive Rate ')\n",
        "plt.ylabel('Recall or True Positive Rate ')\n",
        "plt.legend()\n",
        "plt.show()"
      ],
      "metadata": {
        "colab": {
          "base_uri": "https://localhost:8080/",
          "height": 472
        },
        "id": "Qd09x1OKCjGL",
        "outputId": "035fd6bd-aa2e-4c3d-a6a1-9f0b7bcfb8c3"
      },
      "execution_count": 100,
      "outputs": [
        {
          "output_type": "display_data",
          "data": {
            "text/plain": [
              "<Figure size 640x480 with 1 Axes>"
            ],
            "image/png": "[encoded data removed]"
          },
          "metadata": {}
        }
      ]
    }
  ]
}